{
 "cells": [
  {
   "cell_type": "markdown",
   "metadata": {},
   "source": [
    "# 1"
   ]
  },
  {
   "cell_type": "code",
   "execution_count": 153,
   "metadata": {},
   "outputs": [],
   "source": [
    "%matplotlib inline\n",
    "\n",
    "import matplotlib.pyplot as plt\n",
    "import numpy as np\n",
    "import warnings\n",
    "import itertools\n",
    "warnings.filterwarnings('ignore')"
   ]
  },
  {
   "cell_type": "code",
   "execution_count": 15,
   "metadata": {},
   "outputs": [
    {
     "name": "stdout",
     "output_type": "stream",
     "text": [
      "\n",
      "35\n",
      "\n",
      "18\n",
      "\n",
      "15\n",
      "\n",
      "12\n",
      "\n",
      "20\n"
     ]
    }
   ],
   "source": [
    "for i in range(5):\n",
    "    input()\n",
    "    x = np.random.random_integers(0,36)\n",
    "    print(x)"
   ]
  },
  {
   "cell_type": "markdown",
   "metadata": {},
   "source": [
    "# 2.1"
   ]
  },
  {
   "cell_type": "markdown",
   "metadata": {},
   "source": [
    "Проверим правило умножения вероятностей. Поставим эксперемент с подбрасыванием монеты. Вероятность того, что в двух независимых испытаниях мы получим двух орлов равна вероятности того, что в первом испытании выпадет орёл, помноженной на вероятность того, что во втором испытании выпадет орёл. 0.5 * 0.5 = 0.25"
   ]
  },
  {
   "cell_type": "code",
   "execution_count": 63,
   "metadata": {},
   "outputs": [],
   "source": [
    "def flip_coin():\n",
    "    return np.random.random_integers(0,1)\n",
    "\n",
    "def make_trial(n):\n",
    "    k = 0\n",
    "    for i in range(n):\n",
    "        x_1 = flip_coin()\n",
    "        x_2 = flip_coin()\n",
    "        if (not x_1 and not x_2):\n",
    "            k += 1\n",
    "\n",
    "    return(k/n)"
   ]
  },
  {
   "cell_type": "code",
   "execution_count": 64,
   "metadata": {},
   "outputs": [
    {
     "name": "stdout",
     "output_type": "stream",
     "text": [
      "0.2\n",
      "0.5\n",
      "0.31\n",
      "0.235\n",
      "0.2502\n"
     ]
    }
   ],
   "source": [
    "x = [5,10,100,1000,10000]\n",
    "for i in x:\n",
    "    print(make_trial(i))"
   ]
  },
  {
   "cell_type": "markdown",
   "metadata": {},
   "source": [
    "Как видим, при увеличении количества испытаний, отношение результатов \"орёл и орёл\" к общему количеству испытаний приближается к рассчитаной по формуле вероятности такого исхода."
   ]
  },
  {
   "cell_type": "markdown",
   "metadata": {},
   "source": [
    "# 2.2"
   ]
  },
  {
   "cell_type": "code",
   "execution_count": 80,
   "metadata": {},
   "outputs": [],
   "source": [
    "def get_sums_vector(x,y):\n",
    "    matrix = np.random.rand(x,y)\n",
    "    sums = []\n",
    "    for i in matrix:\n",
    "        sums.append(i.sum())\n",
    "    return sums"
   ]
  },
  {
   "cell_type": "code",
   "execution_count": 85,
   "metadata": {},
   "outputs": [
    {
     "data": {
      "text/plain": [
       "(array([1., 2., 1., 2., 0., 3., 0., 0., 0., 1.]),\n",
       " array([3.4701164 , 3.91113922, 4.35216204, 4.79318487, 5.23420769,\n",
       "        5.67523051, 6.11625333, 6.55727615, 6.99829898, 7.4393218 ,\n",
       "        7.88034462]),\n",
       " <a list of 10 Patch objects>)"
      ]
     },
     "execution_count": 85,
     "metadata": {},
     "output_type": "execute_result"
    },
    {
     "data": {
      "image/png": "[encoded data removed]",
      "text/plain": [
       "<Figure size 432x288 with 1 Axes>"
      ]
     },
     "metadata": {
      "needs_background": "light"
     },
     "output_type": "display_data"
    }
   ],
   "source": [
    "plt.hist(get_sums_vector(10,10), 10)"
   ]
  },
  {
   "cell_type": "code",
   "execution_count": 87,
   "metadata": {},
   "outputs": [
    {
     "data": {
      "text/plain": [
       "(array([ 6.,  6., 12., 16., 19., 15., 12.,  9.,  3.,  2.]),\n",
       " array([43.8505725 , 45.09505274, 46.33953298, 47.58401322, 48.82849346,\n",
       "        50.07297371, 51.31745395, 52.56193419, 53.80641443, 55.05089467,\n",
       "        56.29537491]),\n",
       " <a list of 10 Patch objects>)"
      ]
     },
     "execution_count": 87,
     "metadata": {},
     "output_type": "execute_result"
    },
    {
     "data": {
      "image/png": "[encoded data removed]",
      "text/plain": [
       "<Figure size 432x288 with 1 Axes>"
      ]
     },
     "metadata": {
      "needs_background": "light"
     },
     "output_type": "display_data"
    }
   ],
   "source": [
    "plt.hist(get_sums_vector(100,100), 10)"
   ]
  },
  {
   "cell_type": "code",
   "execution_count": 88,
   "metadata": {},
   "outputs": [
    {
     "data": {
      "text/plain": [
       "(array([  4.,  15.,  45., 130., 232., 228., 209., 101.,  26.,  10.]),\n",
       " array([467.57179366, 473.70353927, 479.83528488, 485.96703049,\n",
       "        492.0987761 , 498.23052171, 504.36226732, 510.49401292,\n",
       "        516.62575853, 522.75750414, 528.88924975]),\n",
       " <a list of 10 Patch objects>)"
      ]
     },
     "execution_count": 88,
     "metadata": {},
     "output_type": "execute_result"
    },
    {
     "data": {
      "image/png": "[encoded data removed]",
      "text/plain": [
       "<Figure size 432x288 with 1 Axes>"
      ]
     },
     "metadata": {
      "needs_background": "light"
     },
     "output_type": "display_data"
    }
   ],
   "source": [
    "plt.hist(get_sums_vector(1000,1000), 10)"
   ]
  },
  {
   "cell_type": "markdown",
   "metadata": {},
   "source": [
    "# 3"
   ]
  },
  {
   "cell_type": "code",
   "execution_count": 148,
   "metadata": {},
   "outputs": [],
   "source": [
    "def bernoulli_trial(n,k):\n",
    "    s, trials = 0, 1000\n",
    "    matrix = np.random.randint(0,2,size=(n,trials))\n",
    "    x = np.zeros(trials)\n",
    "    for i in matrix:\n",
    "        x = x + i\n",
    "    for i in range(trials):\n",
    "        if x[i] == k:\n",
    "            s+=1\n",
    "    return(s/trials)"
   ]
  },
  {
   "cell_type": "code",
   "execution_count": 149,
   "metadata": {},
   "outputs": [],
   "source": [
    "def bernoulli_function(n,k,p):\n",
    "    c = np.math.factorial(n)/(np.math.factorial(k)*np.math.factorial(n-k))\n",
    "    return(c*(p**k)*((1-p)**(n-k)))"
   ]
  },
  {
   "cell_type": "code",
   "execution_count": 150,
   "metadata": {},
   "outputs": [
    {
     "data": {
      "text/plain": [
       "(0.369, 0.375)"
      ]
     },
     "execution_count": 150,
     "metadata": {},
     "output_type": "execute_result"
    }
   ],
   "source": [
    "bernoulli_trial(4,2), bernoulli_function(4,2,0.5)"
   ]
  },
  {
   "cell_type": "code",
   "execution_count": 151,
   "metadata": {},
   "outputs": [
    {
     "data": {
      "text/plain": [
       "(0.315, 0.3125)"
      ]
     },
     "execution_count": 151,
     "metadata": {},
     "output_type": "execute_result"
    }
   ],
   "source": [
    "bernoulli_trial(5,3), bernoulli_function(5,3,0.5)"
   ]
  },
  {
   "cell_type": "code",
   "execution_count": 152,
   "metadata": {},
   "outputs": [
    {
     "data": {
      "text/plain": [
       "(0.047, 0.0439453125)"
      ]
     },
     "execution_count": 152,
     "metadata": {},
     "output_type": "execute_result"
    }
   ],
   "source": [
    "bernoulli_trial(10,2), bernoulli_function(10,2,0.5)"
   ]
  },
  {
   "cell_type": "markdown",
   "metadata": {},
   "source": [
    "# 4"
   ]
  },
  {
   "cell_type": "code",
   "execution_count": 164,
   "metadata": {},
   "outputs": [
    {
     "name": "stdout",
     "output_type": "stream",
     "text": [
      "012\n",
      "013\n",
      "021\n",
      "023\n",
      "031\n",
      "032\n",
      "102\n",
      "103\n",
      "120\n",
      "123\n",
      "130\n",
      "132\n",
      "201\n",
      "203\n",
      "210\n",
      "213\n",
      "230\n",
      "231\n",
      "301\n",
      "302\n",
      "310\n",
      "312\n",
      "320\n",
      "321\n"
     ]
    }
   ],
   "source": [
    "for i in itertools.permutations('0123',3):\n",
    "    print(''.join(i))"
   ]
  },
  {
   "cell_type": "code",
   "execution_count": 161,
   "metadata": {},
   "outputs": [
    {
     "name": "stdout",
     "output_type": "stream",
     "text": [
      "012\n",
      "013\n",
      "023\n",
      "123\n"
     ]
    }
   ],
   "source": [
    "for i in itertools.combinations('0123',3):\n",
    "    print(''.join(i))"
   ]
  },
  {
   "cell_type": "markdown",
   "metadata": {},
   "source": [
    "# 5"
   ]
  },
  {
   "cell_type": "code",
   "execution_count": 165,
   "metadata": {},
   "outputs": [],
   "source": [
    "n, r = 100, 0.7"
   ]
  },
  {
   "cell_type": "code",
   "execution_count": 166,
   "metadata": {},
   "outputs": [],
   "source": [
    "x = np.random.rand(n)"
   ]
  },
  {
   "cell_type": "code",
   "execution_count": 167,
   "metadata": {},
   "outputs": [],
   "source": [
    "y = r*x+(1-r)*np.random.rand(n)"
   ]
  },
  {
   "cell_type": "code",
   "execution_count": 173,
   "metadata": {},
   "outputs": [
    {
     "data": {
      "text/plain": [
       "0.4859180603798686"
      ]
     },
     "execution_count": 173,
     "metadata": {},
     "output_type": "execute_result"
    }
   ],
   "source": [
    "x.mean()"
   ]
  },
  {
   "cell_type": "code",
   "execution_count": 176,
   "metadata": {},
   "outputs": [
    {
     "name": "stdout",
     "output_type": "stream",
     "text": [
      "0.907293519208032\n",
      "[[1.         0.90729352]\n",
      " [0.90729352 1.        ]]\n"
     ]
    },
    {
     "data": {
      "image/png": "[encoded data removed]",
      "text/plain": [
       "<Figure size 432x288 with 1 Axes>"
      ]
     },
     "metadata": {
      "needs_background": "light"
     },
     "output_type": "display_data"
    }
   ],
   "source": [
    "plt.plot(x,y,'o')\n",
    "plt.grid(True)\n",
    "\n",
    "a = (np.sum(x)*np.sum(y)-n*np.sum(x*y))/(np.sum(x)*np.sum(x)-n*np.sum(x*x))\n",
    "b = (np.sum(y)-a*np.sum(x))/n\n",
    "\n",
    "r = (np.sum((x-x.mean())*(y-y.mean())))/(np.sqrt((np.sum((x-x.mean())**2))*(np.sum((y-y.mean())**2))))\n",
    "print(r)\n",
    "print(np.corrcoef(x,y))\n",
    "\n",
    "plt.plot([0,1], [b, a+b])\n",
    "plt.show()"
   ]
  },
  {
   "cell_type": "code",
   "execution_count": null,
   "metadata": {},
   "outputs": [],
   "source": []
  }
 ],
 "metadata": {
  "kernelspec": {
   "display_name": "Python 3",
   "language": "python",
   "name": "python3"
  },
  "language_info": {
   "codemirror_mode": {
    "name": "ipython",
    "version": 3
   },
   "file_extension": ".py",
   "mimetype": "text/x-python",
   "name": "python",
   "nbconvert_exporter": "python",
   "pygments_lexer": "ipython3",
   "version": "3.7.1"
  }
 },
 "nbformat": 4,
 "nbformat_minor": 2
}
